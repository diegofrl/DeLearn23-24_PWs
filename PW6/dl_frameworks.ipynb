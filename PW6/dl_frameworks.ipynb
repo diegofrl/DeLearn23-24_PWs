{
 "cells": [
  {
   "cell_type": "markdown",
   "id": "expressed-suffering",
   "metadata": {},
   "source": [
    "## Exercise 1"
   ]
  },
  {
   "cell_type": "code",
   "execution_count": 1,
   "id": "educational-syndrome",
   "metadata": {},
   "outputs": [
    {
     "name": "stderr",
     "output_type": "stream",
     "text": [
      "2024-04-02 22:44:06.054005: I tensorflow/core/platform/cpu_feature_guard.cc:210] This TensorFlow binary is optimized to use available CPU instructions in performance-critical operations.\n",
      "To enable the following instructions: AVX2 FMA, in other operations, rebuild TensorFlow with the appropriate compiler flags.\n"
     ]
    }
   ],
   "source": [
    "import torch\n",
    "import torchvision\n",
    "import numpy as np\n",
    "import matplotlib.pyplot as plt\n",
    "import time\n",
    "import tensorflow as tf\n",
    "from tensorflow.keras.callbacks import TensorBoard \n",
    "#from torch.utils.tensorboard import SummaryWriter"
   ]
  },
  {
   "cell_type": "code",
   "execution_count": 2,
   "id": "efd9ac65-cf2d-4571-93ce-aeb172cbfbd3",
   "metadata": {},
   "outputs": [
    {
     "name": "stdout",
     "output_type": "stream",
     "text": [
      "Files already downloaded and verified\n",
      "Files already downloaded and verified\n"
     ]
    }
   ],
   "source": [
    "training_data = torchvision.datasets.CIFAR10(\n",
    "    root=\"data\",\n",
    "    train=True,\n",
    "    download=True,\n",
    "    transform=torchvision.transforms.ToTensor()\n",
    ")\n",
    "\n",
    "test_data = torchvision.datasets.CIFAR10(\n",
    "    root=\"data\",\n",
    "    train=False,\n",
    "    download=True,\n",
    "    transform=torchvision.transforms.ToTensor()\n",
    ")\n",
    "\n",
    "labels_map = {\n",
    "    0: \"Airplane\",\n",
    "    1: \"Automobile\",\n",
    "    2: \"Bird\",\n",
    "    3: \"Cat\",\n",
    "    4: \"Deer\",\n",
    "    5: \"Dog\",\n",
    "    6: \"Frog\",\n",
    "    7: \"Horse\",\n",
    "    8: \"Ship\",\n",
    "    9: \"Truck\",\n",
    "}"
   ]
  },
  {
   "cell_type": "code",
   "execution_count": 3,
   "id": "359ac812-b47b-40ab-9450-bf0091dcb396",
   "metadata": {},
   "outputs": [],
   "source": [
    "from torch.utils.data import Dataset\n",
    "\n",
    "class MyCIFAR10Dataset(Dataset):\n",
    "    \"\"\"CIFAR10 dataset.\"\"\"\n",
    "\n",
    "    def __init__(self, dataset, classes=torch.tensor([0, 1, 2, 3, 4, 5, 6, 7, 8, 9]), min_max_normalise=1, flatten=0):\n",
    "        \"\"\"\n",
    "        Arguments:\n",
    "        dataset -- a tuple with the [images, labels] of the original dataset (images should be in a tensor format)\n",
    "        classes -- list of classes to use for training (at least two classes must be given)\n",
    "        min_max_normalise -- whether to do min-max-normalisation (1) or rescaling (0)\n",
    "        flatten -- whether to flatten the 32x32x3 image to a single row (=1);\n",
    "        \"\"\"\n",
    "        self.prepare_data(dataset, classes, min_max_normalise, flatten)\n",
    "\n",
    "    def __len__(self):\n",
    "        return self.num_samples\n",
    "\n",
    "    def __getitem__(self, idx):\n",
    "        return self.x_sel[idx], self.y_sel[idx]\n",
    "\n",
    "    def prepare_data(self, dataset, classes, min_max_normalise, flatten):\n",
    "        x = torch.tensor(dataset[0], dtype=torch.float)\n",
    "        y = torch.tensor(dataset[1], dtype=torch.long)\n",
    "\n",
    "        ind_sel = torch.isin(y, classes)\n",
    "        x_sel = x[ind_sel].clone()\n",
    "        y_sel = y[ind_sel].clone()\n",
    "\n",
    "        for i0 in range(len(classes)):\n",
    "            if i0 != classes[i0]:\n",
    "                y_sel[y_sel == classes[i0]] = i0\n",
    "\n",
    "        self.num_samples = x_sel.shape[0]\n",
    "\n",
    "        if min_max_normalise:\n",
    "            xmax, xmin = torch.max(x_sel), torch.min(x_sel)\n",
    "            x_sel = 2 * (x_sel - xmin) / (xmax - xmin) - 1\n",
    "        else:\n",
    "            xmax = torch.max(x_sel)\n",
    "            x_sel = x_sel / xmax\n",
    "\n",
    "        if flatten:\n",
    "            m = x_sel.shape[0]\n",
    "            x_sel = x_sel.view(m, -1)\n",
    "\n",
    "        self.x_sel = x_sel\n",
    "        self.y_sel = y_sel"
   ]
  },
  {
   "cell_type": "code",
   "execution_count": 4,
   "id": "8f0d531c-0b55-4c68-bd68-efff3e3a63b1",
   "metadata": {},
   "outputs": [],
   "source": [
    "writer = SummaryWriter('tensorboard/cifar10_experiment')"
   ]
  },
  {
   "cell_type": "code",
   "execution_count": 5,
   "id": "fe543be1-774a-4503-a354-cd9d335eddc3",
   "metadata": {},
   "outputs": [],
   "source": [
    "my_images = torch.tensor(training_data.data[:20]).permute(0, 3, 1, 2).float() / 255\n",
    "\n",
    "img_grid = torchvision.utils.make_grid(my_images.float())\n",
    "\n",
    "writer.add_image('a_set_of_cifar10_images', img_grid)"
   ]
  },
  {
   "cell_type": "code",
   "execution_count": 6,
   "id": "7c173bc6-1969-4bd7-87fe-b6807f8529d2",
   "metadata": {},
   "outputs": [],
   "source": [
    "class NeuralNetwork:\n",
    "    \"\"\"\n",
    "    MLP class handling the layers and doing all propagation and back propagation steps\n",
    "    all hidden layers are dense (with ReLU activation) and the last layer is softmax\n",
    "    \"\"\"\n",
    "    def __init__(self, list_num_neurons):\n",
    "        \"\"\"\n",
    "        constructor\n",
    "\n",
    "        Arguments:\n",
    "        list_num_neurons -- list of layer sizes including in- and output layer\n",
    "        \n",
    "        \"\"\"\n",
    "        self.model = torch.nn.Sequential()\n",
    "        #now we require a flatten tensor\n",
    "        self.model.add_module('flatten', torch.nn.Flatten(start_dim=1, end_dim=-1))\n",
    "        #first construct dense layers\n",
    "        for i0 in range(len(list_num_neurons)-2):\n",
    "            self.model.add_module('dense' + str(i0), torch.nn.Linear(list_num_neurons[i0], list_num_neurons[i0+1]))\n",
    "            self.model.add_module('act' + str(i0), torch.nn.ReLU())\n",
    "            \n",
    "        #finally add softmax layer\n",
    "        self.model.add_module('dense' + str(i0+1), torch.nn.Linear(list_num_neurons[-2], list_num_neurons[-1]))\n",
    "        self.model.add_module('act' + str(i0+1), torch.nn.Softmax(dim=1))\n",
    "                         \n",
    "        \n",
    "        self.cost_fn = torch.nn.CrossEntropyLoss(reduction='mean')\n",
    "        \n",
    "        #used to save results\n",
    "        self.result_data = torch.tensor([])\n",
    "        \n",
    "        #we keep a global step counter, thus that optimise can be called \n",
    "        #several times with different settings\n",
    "        self.epoch_counter = 0 \n",
    "        \n",
    "    def propagate(self, x):\n",
    "        \"\"\"\n",
    "        calculates the function estimation based on current parameters\n",
    "        \"\"\"            \n",
    "        y_pred = self.model(x)\n",
    "\n",
    "        return y_pred\n",
    "           \n",
    "     \n",
    "    def back_propagate(self, cost):\n",
    "        \"\"\"\n",
    "        calculates the backpropagation results based on expected output y\n",
    "        this function must be performed AFTER the corresponding propagte step\n",
    "        \"\"\"    \n",
    "        #set gradient values to zero\n",
    "        self.model.zero_grad()\n",
    "              \n",
    "        cost.backward()\n",
    " \n",
    "\n",
    "    def cost_funct(self, y_pred, y):\n",
    "        \"\"\"\n",
    "        calculates the MSE loss function\n",
    "        \"\"\"\n",
    "        cost = self.cost_fn(y_pred, y)\n",
    "        \n",
    "        return cost\n",
    "    \n",
    "         \n",
    "    def gradient_descend(self, alpha):\n",
    "        \"\"\"\n",
    "        does the gradient descend based on results from last back_prop step with learning rate alpha\n",
    "        \"\"\"\n",
    "        with torch.no_grad():\n",
    "            self.optimizer.step()\n",
    "            \n",
    "         \n",
    "    def calc_error(self, y_pred, y):\n",
    "        \"\"\"\n",
    "        get error information\n",
    "        \"\"\"\n",
    "        m = y.shape[0]\n",
    "\n",
    "        y_pred_argmax = torch.argmax(y_pred, dim=1)\n",
    "        error = torch.sum(y != y_pred_argmax) / m\n",
    "\n",
    "        return error\n",
    "\n",
    "    \n",
    "    def append_result(self):\n",
    "        \"\"\"\n",
    "        append cost and error data to output array\n",
    "        \"\"\"\n",
    "        #this takes quite a long time (transform is applied to all images) but is only executed once \n",
    "        #then the images are available for quick execution of propagation step\n",
    "        if self.epoch_counter == 0: \n",
    "            # dataloaders (we use original set (training/test_data); own data has to realize the abstract class representing 'Dataset'\n",
    "            train_loader = torch.utils.data.DataLoader(self.data['train'], batch_size=len(self.data['train']), shuffle=False)\n",
    "            train_iterator = iter(train_loader)\n",
    "            self.train_images, self.train_labels = next(train_iterator)\n",
    "    \n",
    "            valid_loader = torch.utils.data.DataLoader(self.data['valid'], batch_size=len(self.data['valid']), shuffle=False)\n",
    "            valid_iterator = iter(valid_loader)\n",
    "            self.valid_images, self.valid_labels = next(valid_iterator)\n",
    "      \n",
    "        # determine cost and error functions for train and validation data\n",
    "        y_pred_train = self.propagate(self.train_images)\n",
    "        y_pred_val = self.propagate(self.valid_images)\n",
    "\n",
    "        res_data = torch.tensor([[self.cost_funct(y_pred_train, self.train_labels), \n",
    "                                  self.calc_error(y_pred_train, self.train_labels),\n",
    "                                  self.cost_funct(y_pred_val, self.valid_labels), \n",
    "                                  self.calc_error(y_pred_val, self.valid_labels)]])\n",
    "        \n",
    "        self.result_data = torch.cat((self.result_data, res_data), 0)\n",
    "\n",
    "        #send data to tensorboard   \n",
    "        writer.add_scalars('loss', {'train': res_data[0, 0].item(), \\\n",
    "                                   'validate': res_data[0, 2].item()}, self.epoch_counter)\n",
    "\n",
    "        writer.add_scalars('error',{'train': res_data[0, 1].item(), \\\n",
    "                                   'validate': res_data[0, 3].item()}, self.epoch_counter)\n",
    "\n",
    "        #increase epoch counter here (used for plot routines below)\n",
    "        self.epoch_counter += 1 \n",
    "        \n",
    "        return res_data\n",
    "\n",
    "        \n",
    "    def optimise(self, data, epochs, alpha, batch_size=0, debug=0):\n",
    "        \"\"\"\n",
    "        performs epochs number of gradient descend steps and appends result to output array\n",
    "\n",
    "        Arguments:\n",
    "        data -- dictionary with NORMALISED data\n",
    "        epochs -- number of epochs\n",
    "        alpha -- learning rate\n",
    "        batch_size -- size of batches (1 = SGD, 1 < .. < n = mini-batch)\n",
    "        debug -- integer value; get info on gradient descend step every debug-step (0 -> no output)\n",
    "        \"\"\"\n",
    "        #access to data from other methods\n",
    "        self.data = data\n",
    "\n",
    "        #we define the optimiser\n",
    "        self.optimizer = torch.optim.SGD(self.model.parameters(), lr=alpha, momentum=0.)\n",
    "        #self.optimizer = torch.optim.Adam(self.model.parameters(), lr=alpha)\n",
    "\n",
    "        # dataloader for training image\n",
    "        train_loader = torch.utils.data.DataLoader(data['train'], batch_size=batch_size, shuffle=True)\n",
    "        \n",
    "        # save results before 1st step\n",
    "        if self.epoch_counter == 0:\n",
    "            res_data = self.append_result()\n",
    "\n",
    "        for i0 in range(0, epochs):    \n",
    "            #measure time for one epoch\n",
    "            start=time.time()\n",
    "            #setup loop over all batchs\n",
    "            data_iterator = iter(train_loader)\n",
    "            for batch_iter in data_iterator:\n",
    "                #do prediction\n",
    "                y_pred = self.propagate(batch_iter[0])\n",
    "                #determine the loss \n",
    "                cost = self.cost_funct(y_pred, batch_iter[1])\n",
    "                #determine the error\n",
    "                self.back_propagate(cost)\n",
    "                #do the correction step\n",
    "                self.gradient_descend(alpha)\n",
    "\n",
    "            #save result\n",
    "            res_data = self.append_result()\n",
    "\n",
    "            #end of time measurement\n",
    "            end=time.time()\n",
    "            \n",
    "            if debug and np.mod(i0, debug) == 0:\n",
    "                print('result after %d epochs (dt=%1.2f s)' % (self.epoch_counter-1, end-start))\n",
    "\n",
    "        if debug:\n",
    "            print('result after %d epochs, train: cost %.5f, error %.5f ; validation: cost %.5f, error %.5f'\n",
    "                  % (self.epoch_counter-1, res_data[0, 0].item(), res_data[0, 1].item(), \\\n",
    "                                                                res_data[0, 2].item(), res_data[0, 3].item()))\n",
    "                        \n",
    "            "
   ]
  },
  {
   "cell_type": "code",
   "execution_count": 13,
   "id": "5e6bc169-8a62-4fc8-aab0-d88ab4b774d4",
   "metadata": {},
   "outputs": [
    {
     "name": "stderr",
     "output_type": "stream",
     "text": [
      "/var/folders/d8/m1_4xgr97g573bqjryrsl9yc0000gn/T/ipykernel_8343/3399414968.py:24: UserWarning: To copy construct from a tensor, it is recommended to use sourceTensor.clone().detach() or sourceTensor.clone().detach().requires_grad_(True), rather than torch.tensor(sourceTensor).\n",
      "  y = torch.tensor(dataset[1], dtype=torch.long)\n"
     ]
    },
    {
     "name": "stdout",
     "output_type": "stream",
     "text": [
      "size_in: 3072, size_out: 10\n"
     ]
    }
   ],
   "source": [
    "# Choose the categories\n",
    "classes = torch.tensor([0, 1, 2, 3, 4, 5, 6, 7, 8, 9])\n",
    "\n",
    "# Split data into training and validation sets\n",
    "validation_size = 0.2\n",
    "valid_ind = int(len(training_data) * (1 - validation_size))\n",
    "\n",
    "# Create custom training and validation datasets\n",
    "train_dataset = MyCIFAR10Dataset([training_data.data[:valid_ind], torch.tensor(training_data.targets)[:valid_ind]], classes=classes)\n",
    "valid_dataset = MyCIFAR10Dataset([training_data.data[valid_ind:], torch.tensor(training_data.targets)[valid_ind:]], classes=classes)\n",
    "\n",
    "# Data is arranged as a dictionary with quick access through respective keys\n",
    "data = {'train': train_dataset, 'valid': valid_dataset}\n",
    "\n",
    "# Choose the hyperparameters you want to use for the initialisation\n",
    "# Since CIFAR10 images are 32x32 with 3 channels, adjust size_in accordingly\n",
    "size_in = 32 * 32 * 3 # For flattened CIFAR10 images\n",
    "size_out = 10\n",
    "\n",
    "print('size_in: %d, size_out: %d' % (size_in, size_out))\n",
    "list_num_neurons = [size_in, 100, size_out]\n",
    "NNet = NeuralNetwork(list_num_neurons)"
   ]
  },
  {
   "cell_type": "code",
   "execution_count": 14,
   "id": "71e92ed4-2f51-4b3f-a8d0-562c4ee6eb8e",
   "metadata": {},
   "outputs": [],
   "source": [
    "writer.add_graph(NNet.model, my_images.float())\n",
    "writer.close()"
   ]
  },
  {
   "cell_type": "code",
   "execution_count": 15,
   "id": "3f5e5245-456f-4026-8978-8a1b8776ee63",
   "metadata": {},
   "outputs": [
    {
     "name": "stdout",
     "output_type": "stream",
     "text": [
      "result after 1 epochs (dt=2.39 s)\n",
      "result after 6 epochs (dt=2.21 s)\n",
      "result after 11 epochs (dt=2.27 s)\n",
      "result after 16 epochs (dt=2.20 s)\n",
      "result after 20 epochs, train: cost 1.84541, error 0.38035 ; validation: cost 1.96771, error 0.51020\n"
     ]
    }
   ],
   "source": [
    "epochs = 20\n",
    "batchsize = 16\n",
    "learning_rate = 0.05\n",
    "NNet.optimise(data, epochs, learning_rate, batchsize, debug=5)"
   ]
  },
  {
   "cell_type": "code",
   "execution_count": 16,
   "id": "bb51f2e1",
   "metadata": {},
   "outputs": [
    {
     "name": "stdout",
     "output_type": "stream",
     "text": [
      "test error rate: 50.47 % out of 10000\n",
      "torch.Size([5047, 32, 32, 3])\n"
     ]
    }
   ],
   "source": [
    "test_dataset = MyCIFAR10Dataset([test_data.data, test_data.targets], classes=classes)\n",
    "test_loader = torch.utils.data.DataLoader(test_dataset, batch_size=len(test_dataset), shuffle=False)\n",
    "test_iterator = iter(test_loader)\n",
    "test_images, test_labels = next(test_iterator)\n",
    "\n",
    "y_pred = torch.argmax(NNet.propagate(test_images), axis=1)\n",
    "false_classifications = test_images[(y_pred != test_labels)]\n",
    "\n",
    "print('test error rate: %.2f %% out of %d' % (100*false_classifications.shape[0]/y_pred.shape[0], y_pred.shape[0]))\n",
    "print(false_classifications.shape)"
   ]
  },
  {
   "cell_type": "markdown",
   "id": "4049b6a2",
   "metadata": {},
   "source": [
    "## Exercise 2"
   ]
  },
  {
   "cell_type": "code",
   "execution_count": 3,
   "id": "3dfd680b",
   "metadata": {},
   "outputs": [
    {
     "name": "stdout",
     "output_type": "stream",
     "text": [
      "(60000, 32, 32, 3)\n",
      "(60000,)\n"
     ]
    }
   ],
   "source": [
    "x = training_data.data\n",
    "x = np.append(x, test_data.data,0)\n",
    "\n",
    "y = training_data.targets\n",
    "y = np.append(y, test_data.targets)\n",
    "\n",
    "print(x.shape)\n",
    "print(y.shape)"
   ]
  },
  {
   "cell_type": "code",
   "execution_count": 4,
   "id": "f2c06a78",
   "metadata": {},
   "outputs": [],
   "source": [
    "def prepare_cifar10_data(x, y, classes, train_size=0.8, min_max_normalise=1, flatten=1):\n",
    "    \"\"\"\n",
    "    Prepares CIFAR10 data for training and testing.\n",
    "    \n",
    "    Parameters:\n",
    "    - x: Images in the dataset.\n",
    "    - y: Labels corresponding to the images.\n",
    "    - classes: List of class indices to use.\n",
    "    - train_size: Proportion of the dataset to use for training.\n",
    "    - min_max_normalise: Whether to apply min-max normalization.\n",
    "    - flatten: Whether to flatten the images to a single vector.\n",
    "    \n",
    "    Returns:\n",
    "    - x_train: Training images.\n",
    "    - x_test: Test images.\n",
    "    - y_train: Training labels in one-hot format.\n",
    "    - y_test: Test labels in one-hot format.\n",
    "    \"\"\"\n",
    "\n",
    "    # Select specified classes\n",
    "    ind_sel = np.isin(y, classes)\n",
    "    x_sel = x[ind_sel].copy()\n",
    "    y_sel = y[ind_sel].copy()\n",
    "\n",
    "    # Replace the labels to be in successive order\n",
    "    for i, class_id in enumerate(classes):\n",
    "        y_sel[y_sel == class_id] = i\n",
    "\n",
    "    # Split data into training and testing\n",
    "    num_samples = x_sel.shape[0]\n",
    "    max_train_ind = int(train_size * num_samples)\n",
    "    indices = np.arange(num_samples)\n",
    "    np.random.shuffle(indices)\n",
    "    \n",
    "    x_train, x_test = x_sel[indices[:max_train_ind]], x_sel[indices[max_train_ind:]]\n",
    "    y_train, y_test = y_sel[indices[:max_train_ind]], y_sel[indices[max_train_ind:]]\n",
    "\n",
    "    # Normalize data\n",
    "    if min_max_normalise:\n",
    "        xmax, xmin = np.max(x_train), np.min(x_train)\n",
    "        x_train = 2 * (x_train.astype(float) - xmin) / (xmax - xmin) - 1\n",
    "        x_test = 2 * (x_test.astype(float) - xmin) / (xmax - xmin) - 1\n",
    "    else:\n",
    "        xmax = np.max(x_train)\n",
    "        x_train = x_train.astype(float) / xmax\n",
    "        x_test = x_test.astype(float) / xmax\n",
    "\n",
    "    # Flatten images if specified\n",
    "    if flatten:\n",
    "        x_train = x_train.reshape(x_train.shape[0], -1)\n",
    "        x_test = x_test.reshape(x_test.shape[0], -1)\n",
    "\n",
    "    # Convert labels to one-hot encoding\n",
    "    y_train_one_hot = tf.keras.utils.to_categorical(y_train, num_classes=len(classes))\n",
    "    y_test_one_hot = tf.keras.utils.to_categorical(y_test, num_classes=len(classes))\n",
    "\n",
    "    return x_train, x_test, y_train_one_hot, y_test_one_hot"
   ]
  },
  {
   "cell_type": "code",
   "execution_count": 5,
   "id": "b6e26914",
   "metadata": {},
   "outputs": [],
   "source": [
    "class NeuralNetworkCIFAR10:\n",
    "    \"\"\"\n",
    "    MLP class for CIFAR10 dataset. Handles layers, forward propagation, and backpropagation.\n",
    "    Uses ReLU activations for hidden layers and softmax for the output layer.\n",
    "    \"\"\"\n",
    "    def __init__(self, list_num_neurons, alpha):\n",
    "        \"\"\"\n",
    "        Constructor\n",
    "\n",
    "        Arguments:\n",
    "        list_num_neurons -- list of layer sizes including input and output layers\n",
    "        alpha -- learning rate\n",
    "        \"\"\"\n",
    "        self.model = tf.keras.Sequential()\n",
    "        \n",
    "        # Adjust the input shape for CIFAR10 images (32x32 pixels with 3 color channels)\n",
    "        self.model.add(tf.keras.layers.Flatten(input_shape=(32, 32, 3)))\n",
    "        \n",
    "        # Add Dense layers with ReLU activation, except for the output layer which uses softmax\n",
    "        for num_neurons in list_num_neurons[:-1]:\n",
    "            self.model.add(tf.keras.layers.Dense(num_neurons, activation='relu'))\n",
    "        \n",
    "        # Add the softmax layer for the output\n",
    "        self.model.add(tf.keras.layers.Dense(list_num_neurons[-1], activation='softmax'))\n",
    "\n",
    "        print(self.model.summary())\n",
    "                         \n",
    "        # Choose the optimizer\n",
    "        optimizer = tf.keras.optimizers.SGD(learning_rate=alpha)\n",
    "        \n",
    "        # Compile the model\n",
    "        self.model.compile(optimizer=optimizer, loss='categorical_crossentropy', metrics=['accuracy'])\n",
    "         \n",
    "    def optimise(self, x_train, y_train, epochs, valid_size=0.2, batch_size=16, debug=0, call_backs=None):\n",
    "        \"\"\"\n",
    "        Trains the model on the provided data.\n",
    "\n",
    "        Arguments:\n",
    "        x_train -- training data images\n",
    "        y_train -- training data labels\n",
    "        epochs -- number of epochs to train for\n",
    "        valid_size -- fraction of the training data to use as validation\n",
    "        batch_size -- batch size for training\n",
    "        debug -- verbosity mode\n",
    "        call_backs -- list of callbacks for training\n",
    "        \"\"\"\n",
    "        \n",
    "        # If no callbacks are provided, initialize with an empty list\n",
    "        if call_backs is None:\n",
    "            call_backs = []\n",
    "\n",
    "        # Create a TensorBoard callback\n",
    "        tensorboard_callback = TensorBoard(log_dir='./logs', histogram_freq=1)\n",
    "\n",
    "        # Add the TensorBoard callback to the list of callbacks\n",
    "        call_backs.append(tensorboard_callback)\n",
    "         \n",
    "        # Start training\n",
    "        self.history = self.model.fit(x_train, y_train, validation_split=valid_size,   \n",
    "                                      batch_size=batch_size, epochs=epochs,\n",
    "                                      callbacks=call_backs, verbose=debug)"
   ]
  },
  {
   "cell_type": "code",
   "execution_count": 7,
   "id": "19eeb59a",
   "metadata": {},
   "outputs": [
    {
     "data": {
      "text/html": [
       "<pre style=\"white-space:pre;overflow-x:auto;line-height:normal;font-family:Menlo,'DejaVu Sans Mono',consolas,'Courier New',monospace\"><span style=\"font-weight: bold\">Model: \"sequential_1\"</span>\n",
       "</pre>\n"
      ],
      "text/plain": [
       "\u001b[1mModel: \"sequential_1\"\u001b[0m\n"
      ]
     },
     "metadata": {},
     "output_type": "display_data"
    },
    {
     "data": {
      "text/html": [
       "<pre style=\"white-space:pre;overflow-x:auto;line-height:normal;font-family:Menlo,'DejaVu Sans Mono',consolas,'Courier New',monospace\">┏━━━━━━━━━━━━━━━━━━━━━━━━━━━━━━━━━┳━━━━━━━━━━━━━━━━━━━━━━━━┳━━━━━━━━━━━━━━━┓\n",
       "┃<span style=\"font-weight: bold\"> Layer (type)                    </span>┃<span style=\"font-weight: bold\"> Output Shape           </span>┃<span style=\"font-weight: bold\">       Param # </span>┃\n",
       "┡━━━━━━━━━━━━━━━━━━━━━━━━━━━━━━━━━╇━━━━━━━━━━━━━━━━━━━━━━━━╇━━━━━━━━━━━━━━━┩\n",
       "│ flatten_1 (<span style=\"color: #0087ff; text-decoration-color: #0087ff\">Flatten</span>)             │ (<span style=\"color: #00d7ff; text-decoration-color: #00d7ff\">None</span>, <span style=\"color: #00af00; text-decoration-color: #00af00\">3072</span>)           │             <span style=\"color: #00af00; text-decoration-color: #00af00\">0</span> │\n",
       "├─────────────────────────────────┼────────────────────────┼───────────────┤\n",
       "│ dense_2 (<span style=\"color: #0087ff; text-decoration-color: #0087ff\">Dense</span>)                 │ (<span style=\"color: #00d7ff; text-decoration-color: #00d7ff\">None</span>, <span style=\"color: #00af00; text-decoration-color: #00af00\">100</span>)            │       <span style=\"color: #00af00; text-decoration-color: #00af00\">307,300</span> │\n",
       "├─────────────────────────────────┼────────────────────────┼───────────────┤\n",
       "│ dense_3 (<span style=\"color: #0087ff; text-decoration-color: #0087ff\">Dense</span>)                 │ (<span style=\"color: #00d7ff; text-decoration-color: #00d7ff\">None</span>, <span style=\"color: #00af00; text-decoration-color: #00af00\">10</span>)             │         <span style=\"color: #00af00; text-decoration-color: #00af00\">1,010</span> │\n",
       "└─────────────────────────────────┴────────────────────────┴───────────────┘\n",
       "</pre>\n"
      ],
      "text/plain": [
       "┏━━━━━━━━━━━━━━━━━━━━━━━━━━━━━━━━━┳━━━━━━━━━━━━━━━━━━━━━━━━┳━━━━━━━━━━━━━━━┓\n",
       "┃\u001b[1m \u001b[0m\u001b[1mLayer (type)                   \u001b[0m\u001b[1m \u001b[0m┃\u001b[1m \u001b[0m\u001b[1mOutput Shape          \u001b[0m\u001b[1m \u001b[0m┃\u001b[1m \u001b[0m\u001b[1m      Param #\u001b[0m\u001b[1m \u001b[0m┃\n",
       "┡━━━━━━━━━━━━━━━━━━━━━━━━━━━━━━━━━╇━━━━━━━━━━━━━━━━━━━━━━━━╇━━━━━━━━━━━━━━━┩\n",
       "│ flatten_1 (\u001b[38;5;33mFlatten\u001b[0m)             │ (\u001b[38;5;45mNone\u001b[0m, \u001b[38;5;34m3072\u001b[0m)           │             \u001b[38;5;34m0\u001b[0m │\n",
       "├─────────────────────────────────┼────────────────────────┼───────────────┤\n",
       "│ dense_2 (\u001b[38;5;33mDense\u001b[0m)                 │ (\u001b[38;5;45mNone\u001b[0m, \u001b[38;5;34m100\u001b[0m)            │       \u001b[38;5;34m307,300\u001b[0m │\n",
       "├─────────────────────────────────┼────────────────────────┼───────────────┤\n",
       "│ dense_3 (\u001b[38;5;33mDense\u001b[0m)                 │ (\u001b[38;5;45mNone\u001b[0m, \u001b[38;5;34m10\u001b[0m)             │         \u001b[38;5;34m1,010\u001b[0m │\n",
       "└─────────────────────────────────┴────────────────────────┴───────────────┘\n"
      ]
     },
     "metadata": {},
     "output_type": "display_data"
    },
    {
     "data": {
      "text/html": [
       "<pre style=\"white-space:pre;overflow-x:auto;line-height:normal;font-family:Menlo,'DejaVu Sans Mono',consolas,'Courier New',monospace\"><span style=\"font-weight: bold\"> Total params: </span><span style=\"color: #00af00; text-decoration-color: #00af00\">308,310</span> (1.18 MB)\n",
       "</pre>\n"
      ],
      "text/plain": [
       "\u001b[1m Total params: \u001b[0m\u001b[38;5;34m308,310\u001b[0m (1.18 MB)\n"
      ]
     },
     "metadata": {},
     "output_type": "display_data"
    },
    {
     "data": {
      "text/html": [
       "<pre style=\"white-space:pre;overflow-x:auto;line-height:normal;font-family:Menlo,'DejaVu Sans Mono',consolas,'Courier New',monospace\"><span style=\"font-weight: bold\"> Trainable params: </span><span style=\"color: #00af00; text-decoration-color: #00af00\">308,310</span> (1.18 MB)\n",
       "</pre>\n"
      ],
      "text/plain": [
       "\u001b[1m Trainable params: \u001b[0m\u001b[38;5;34m308,310\u001b[0m (1.18 MB)\n"
      ]
     },
     "metadata": {},
     "output_type": "display_data"
    },
    {
     "data": {
      "text/html": [
       "<pre style=\"white-space:pre;overflow-x:auto;line-height:normal;font-family:Menlo,'DejaVu Sans Mono',consolas,'Courier New',monospace\"><span style=\"font-weight: bold\"> Non-trainable params: </span><span style=\"color: #00af00; text-decoration-color: #00af00\">0</span> (0.00 B)\n",
       "</pre>\n"
      ],
      "text/plain": [
       "\u001b[1m Non-trainable params: \u001b[0m\u001b[38;5;34m0\u001b[0m (0.00 B)\n"
      ]
     },
     "metadata": {},
     "output_type": "display_data"
    },
    {
     "name": "stdout",
     "output_type": "stream",
     "text": [
      "None\n",
      "Epoch 1/20\n",
      "2400/2400 - 5s - 2ms/step - accuracy: 0.3987 - loss: 1.7178 - val_accuracy: 0.4473 - val_loss: 1.5882\n",
      "Epoch 2/20\n",
      "2400/2400 - 5s - 2ms/step - accuracy: 0.4599 - loss: 1.5504 - val_accuracy: 0.4691 - val_loss: 1.5395\n",
      "Epoch 3/20\n",
      "2400/2400 - 4s - 2ms/step - accuracy: 0.4883 - loss: 1.4721 - val_accuracy: 0.4590 - val_loss: 1.5694\n",
      "Epoch 4/20\n",
      "2400/2400 - 4s - 2ms/step - accuracy: 0.5062 - loss: 1.4234 - val_accuracy: 0.4663 - val_loss: 1.5828\n",
      "Epoch 5/20\n",
      "2400/2400 - 4s - 2ms/step - accuracy: 0.5216 - loss: 1.3832 - val_accuracy: 0.4652 - val_loss: 1.5999\n",
      "Epoch 6/20\n",
      "2400/2400 - 4s - 1ms/step - accuracy: 0.5354 - loss: 1.3466 - val_accuracy: 0.4795 - val_loss: 1.5582\n",
      "Epoch 7/20\n",
      "2400/2400 - 4s - 1ms/step - accuracy: 0.5491 - loss: 1.3065 - val_accuracy: 0.4795 - val_loss: 1.5882\n",
      "Epoch 8/20\n",
      "2400/2400 - 4s - 1ms/step - accuracy: 0.5588 - loss: 1.2808 - val_accuracy: 0.4706 - val_loss: 1.6334\n",
      "Epoch 9/20\n",
      "2400/2400 - 4s - 1ms/step - accuracy: 0.5732 - loss: 1.2424 - val_accuracy: 0.4610 - val_loss: 1.6806\n",
      "Epoch 10/20\n",
      "2400/2400 - 3s - 1ms/step - accuracy: 0.5767 - loss: 1.2229 - val_accuracy: 0.4750 - val_loss: 1.6663\n",
      "Epoch 11/20\n",
      "2400/2400 - 4s - 1ms/step - accuracy: 0.5902 - loss: 1.1978 - val_accuracy: 0.4639 - val_loss: 1.7642\n",
      "Epoch 12/20\n",
      "2400/2400 - 4s - 1ms/step - accuracy: 0.5996 - loss: 1.1768 - val_accuracy: 0.4789 - val_loss: 1.6603\n",
      "Epoch 13/20\n",
      "2400/2400 - 4s - 2ms/step - accuracy: 0.6052 - loss: 1.1541 - val_accuracy: 0.4735 - val_loss: 1.7552\n",
      "Epoch 14/20\n",
      "2400/2400 - 3s - 1ms/step - accuracy: 0.6124 - loss: 1.1280 - val_accuracy: 0.4821 - val_loss: 1.6915\n",
      "Epoch 15/20\n",
      "2400/2400 - 4s - 1ms/step - accuracy: 0.6186 - loss: 1.1080 - val_accuracy: 0.4730 - val_loss: 1.7698\n",
      "Epoch 16/20\n",
      "2400/2400 - 4s - 2ms/step - accuracy: 0.6291 - loss: 1.0847 - val_accuracy: 0.4794 - val_loss: 1.7617\n",
      "Epoch 17/20\n",
      "2400/2400 - 4s - 2ms/step - accuracy: 0.6341 - loss: 1.0703 - val_accuracy: 0.4790 - val_loss: 1.7760\n",
      "Epoch 18/20\n",
      "2400/2400 - 3s - 1ms/step - accuracy: 0.6381 - loss: 1.0531 - val_accuracy: 0.4704 - val_loss: 1.8726\n",
      "Epoch 19/20\n",
      "2400/2400 - 4s - 2ms/step - accuracy: 0.6453 - loss: 1.0287 - val_accuracy: 0.4750 - val_loss: 1.9328\n",
      "Epoch 20/20\n",
      "2400/2400 - 3s - 1ms/step - accuracy: 0.6533 - loss: 1.0163 - val_accuracy: 0.4892 - val_loss: 1.8132\n"
     ]
    }
   ],
   "source": [
    "#choose the categories\n",
    "classes = [0,1,2,3,4,5,6,7,8,9]\n",
    "\n",
    "#y_train is of type onehot (y_test not!)\n",
    "x_train, x_test, y_train, y_test = prepare_cifar10_data(x, y, classes, train_size=0.8, min_max_normalise=1, flatten=0)\n",
    "\n",
    "#choose the hyperparameters you want to use for the initialisation\n",
    "size_out = len(classes)\n",
    "list_num_neurons = [100, size_out]; \n",
    "learning_rate = 0.05\n",
    "NNet = NeuralNetworkCIFAR10(list_num_neurons, learning_rate)\n",
    "\n",
    "#choose the hyperparameters you want to use for training\n",
    "epochs = 20\n",
    "batchsize = 16\n",
    "NNet.optimise(x_train, y_train, epochs, valid_size=0.2, batch_size=batchsize, debug=2)"
   ]
  }
 ],
 "metadata": {
  "kernelspec": {
   "display_name": "Python 3 (ipykernel)",
   "language": "python",
   "name": "python3"
  },
  "language_info": {
   "codemirror_mode": {
    "name": "ipython",
    "version": 3
   },
   "file_extension": ".py",
   "mimetype": "text/x-python",
   "name": "python",
   "nbconvert_exporter": "python",
   "pygments_lexer": "ipython3",
   "version": "3.10.11"
  }
 },
 "nbformat": 4,
 "nbformat_minor": 5
}
