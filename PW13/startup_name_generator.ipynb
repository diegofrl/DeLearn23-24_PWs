{
  "cells": [
    {
      "cell_type": "code",
      "execution_count": 3,
      "metadata": {
        "id": "K28UtuVbBu9Z"
      },
      "outputs": [],
      "source": [
        "import numpy as np\n",
        "import random\n",
        "import matplotlib.pyplot as plt\n",
        "import tensorflow as tf"
      ]
    },
    {
      "cell_type": "code",
      "execution_count": 4,
      "metadata": {
        "colab": {
          "base_uri": "https://localhost:8080/"
        },
        "id": "_50cslHBBu9a",
        "outputId": "66438324-edce-4d23-a1d6-768ce999fab6"
      },
      "outputs": [
        {
          "output_type": "stream",
          "name": "stdout",
          "text": [
            "Loaded a corpus of 2567986 characters\n"
          ]
        }
      ],
      "source": [
        "keras = tf.keras\n",
        "\n",
        "with open(\"companies.csv\") as corpus_file:\n",
        "    corpus = corpus_file.read()\n",
        "    corpus_length = len(corpus)\n",
        "print(\"Loaded a corpus of {0} characters\".format(corpus_length))"
      ]
    },
    {
      "cell_type": "code",
      "execution_count": 5,
      "metadata": {
        "colab": {
          "base_uri": "https://localhost:8080/"
        },
        "id": "ZqH-dABbBu9b",
        "outputId": "ad491966-09c5-4642-be0d-005d9d87d48e"
      },
      "outputs": [
        {
          "output_type": "stream",
          "name": "stdout",
          "text": [
            "Our corpus contains 150 unique characters.\n"
          ]
        }
      ],
      "source": [
        "# Get a unique identifier for each char in the corpus,\n",
        "# then make some dicts to ease encoding and decoding\n",
        "chars = sorted(list(set(corpus)))\n",
        "num_chars = len(chars)\n",
        "encoding = {c: i for i, c in enumerate(chars)}\n",
        "decoding = {i: c for i, c in enumerate(chars)}\n",
        "print(\"Our corpus contains {0} unique characters.\".format(num_chars))"
      ]
    },
    {
      "cell_type": "code",
      "execution_count": 6,
      "metadata": {
        "colab": {
          "base_uri": "https://localhost:8080/"
        },
        "id": "A1v6kZ8NBu9b",
        "outputId": "0aa5ff2e-019e-4c47-b6e7-de7c4b5b5ac1"
      },
      "outputs": [
        {
          "output_type": "stream",
          "name": "stdout",
          "text": [
            "{'\\n': 0, ' ': 1, '!': 2, '\"': 3, '#': 4, '$': 5, '%': 6, '&': 7, \"'\": 8, '(': 9, ')': 10, '*': 11, '+': 12, ',': 13, '-': 14, '.': 15, '/': 16, '0': 17, '1': 18, '2': 19, '3': 20, '4': 21, '5': 22, '6': 23, '7': 24, '8': 25, '9': 26, ':': 27, '=': 28, '>': 29, '?': 30, '@': 31, 'A': 32, 'B': 33, 'C': 34, 'D': 35, 'E': 36, 'F': 37, 'G': 38, 'H': 39, 'I': 40, 'J': 41, 'K': 42, 'L': 43, 'M': 44, 'N': 45, 'O': 46, 'P': 47, 'Q': 48, 'R': 49, 'S': 50, 'T': 51, 'U': 52, 'V': 53, 'W': 54, 'X': 55, 'Y': 56, 'Z': 57, '[': 58, '\\\\': 59, ']': 60, '^': 61, '_': 62, 'a': 63, 'b': 64, 'c': 65, 'd': 66, 'e': 67, 'f': 68, 'g': 69, 'h': 70, 'i': 71, 'j': 72, 'k': 73, 'l': 74, 'm': 75, 'n': 76, 'o': 77, 'p': 78, 'q': 79, 'r': 80, 's': 81, 't': 82, 'u': 83, 'v': 84, 'w': 85, 'x': 86, 'y': 87, 'z': 88, '{': 89, '|': 90, '}': 91, '~': 92, '\\x81': 93, '\\x82': 94, '\\x83': 95, '\\x84': 96, '\\x85': 97, '\\x86': 98, '\\x87': 99, '\\x88': 100, '\\x89': 101, '\\x8a': 102, '\\x8b': 103, '\\x8c': 104, '\\x8d': 105, '\\x8e': 106, '\\x8f': 107, '\\x90': 108, '\\x91': 109, '\\x92': 110, '\\x93': 111, '\\x94': 112, '\\x95': 113, '\\x96': 114, '\\x97': 115, '\\x98': 116, '\\x99': 117, '\\x9a': 118, '\\x9b': 119, '\\x9c': 120, '\\x9f': 121, '¡': 122, '¥': 123, '§': 124, '¨': 125, '©': 126, 'ª': 127, '«': 128, '¯': 129, 'µ': 130, '¾': 131, '¿': 132, 'Ê': 133, 'Ë': 134, 'Ì': 135, 'Ï': 136, 'Ð': 137, 'Ñ': 138, 'Ô': 139, 'Õ': 140, 'ç': 141, 'è': 142, 'ê': 143, 'ì': 144, 'î': 145, 'ï': 146, 'ò': 147, 'õ': 148, 'û': 149}\n",
            "{0: '\\n', 1: ' ', 2: '!', 3: '\"', 4: '#', 5: '$', 6: '%', 7: '&', 8: \"'\", 9: '(', 10: ')', 11: '*', 12: '+', 13: ',', 14: '-', 15: '.', 16: '/', 17: '0', 18: '1', 19: '2', 20: '3', 21: '4', 22: '5', 23: '6', 24: '7', 25: '8', 26: '9', 27: ':', 28: '=', 29: '>', 30: '?', 31: '@', 32: 'A', 33: 'B', 34: 'C', 35: 'D', 36: 'E', 37: 'F', 38: 'G', 39: 'H', 40: 'I', 41: 'J', 42: 'K', 43: 'L', 44: 'M', 45: 'N', 46: 'O', 47: 'P', 48: 'Q', 49: 'R', 50: 'S', 51: 'T', 52: 'U', 53: 'V', 54: 'W', 55: 'X', 56: 'Y', 57: 'Z', 58: '[', 59: '\\\\', 60: ']', 61: '^', 62: '_', 63: 'a', 64: 'b', 65: 'c', 66: 'd', 67: 'e', 68: 'f', 69: 'g', 70: 'h', 71: 'i', 72: 'j', 73: 'k', 74: 'l', 75: 'm', 76: 'n', 77: 'o', 78: 'p', 79: 'q', 80: 'r', 81: 's', 82: 't', 83: 'u', 84: 'v', 85: 'w', 86: 'x', 87: 'y', 88: 'z', 89: '{', 90: '|', 91: '}', 92: '~', 93: '\\x81', 94: '\\x82', 95: '\\x83', 96: '\\x84', 97: '\\x85', 98: '\\x86', 99: '\\x87', 100: '\\x88', 101: '\\x89', 102: '\\x8a', 103: '\\x8b', 104: '\\x8c', 105: '\\x8d', 106: '\\x8e', 107: '\\x8f', 108: '\\x90', 109: '\\x91', 110: '\\x92', 111: '\\x93', 112: '\\x94', 113: '\\x95', 114: '\\x96', 115: '\\x97', 116: '\\x98', 117: '\\x99', 118: '\\x9a', 119: '\\x9b', 120: '\\x9c', 121: '\\x9f', 122: '¡', 123: '¥', 124: '§', 125: '¨', 126: '©', 127: 'ª', 128: '«', 129: '¯', 130: 'µ', 131: '¾', 132: '¿', 133: 'Ê', 134: 'Ë', 135: 'Ì', 136: 'Ï', 137: 'Ð', 138: 'Ñ', 139: 'Ô', 140: 'Õ', 141: 'ç', 142: 'è', 143: 'ê', 144: 'ì', 145: 'î', 146: 'ï', 147: 'ò', 148: 'õ', 149: 'û'}\n"
          ]
        }
      ],
      "source": [
        "print(encoding)\n",
        "print(decoding)"
      ]
    },
    {
      "cell_type": "markdown",
      "metadata": {
        "id": "_K45J6EWBu9b"
      },
      "source": [
        "## One to many approach"
      ]
    },
    {
      "cell_type": "code",
      "execution_count": 7,
      "metadata": {
        "colab": {
          "base_uri": "https://localhost:8080/"
        },
        "id": "droAT7RbBu9c",
        "outputId": "2d1bea0d-6fa6-41c2-dcfb-6f6484f46287"
      },
      "outputs": [
        {
          "output_type": "stream",
          "name": "stdout",
          "text": [
            "Sliced our corpus into 855992 sentences of length 10\n"
          ]
        }
      ],
      "source": [
        "# chop up our data into X and y, slice into roughly\n",
        "# (num_chars / skip) overlapping 'sentences' of length\n",
        "# sentence_length, and encode the chars\n",
        "sentence_length = 10\n",
        "skip = 3\n",
        "X_data = []\n",
        "y_data = []\n",
        "for i in range (0, len(corpus) - sentence_length, skip):\n",
        "    sentence = corpus[i:i + sentence_length]\n",
        "    next_char = corpus[i + sentence_length]\n",
        "    X_data.append([encoding[char] for char in sentence])\n",
        "    y_data.append(encoding[next_char])\n",
        "\n",
        "num_sentences = len(X_data)\n",
        "print(\"Sliced our corpus into {0} sentences of length {1}\"\n",
        "      .format(num_sentences, sentence_length))"
      ]
    },
    {
      "cell_type": "code",
      "execution_count": 8,
      "metadata": {
        "colab": {
          "base_uri": "https://localhost:8080/"
        },
        "id": "PhmKnftABu9c",
        "outputId": "8ebe9b11-afc9-4ba7-a18e-471dc56d10c1"
      },
      "outputs": [
        {
          "output_type": "stream",
          "name": "stdout",
          "text": [
            "[39, 63, 81, 70, 78, 74, 63, 87, 1, 40]\n",
            "['H', 'a', 's', 'h', 'p', 'l', 'a', 'y', ' ', 'I']\n",
            "n\n"
          ]
        }
      ],
      "source": [
        "print(X_data[0])\n",
        "print([decoding[idx] for idx in X_data[0]])\n",
        "print(decoding[y_data[0]])"
      ]
    },
    {
      "cell_type": "code",
      "execution_count": 9,
      "metadata": {
        "colab": {
          "base_uri": "https://localhost:8080/"
        },
        "id": "U_0iQtZaBu9c",
        "outputId": "555db5f9-850e-46cf-9eee-f384909cb1f3"
      },
      "outputs": [
        {
          "output_type": "stream",
          "name": "stdout",
          "text": [
            "Sanity check y. Dimension: (855992, 150) # Sentences: 855992 Characters in corpus: 150\n",
            "Sanity check X. Dimension: (855992, 10, 150) Sentence length: 10\n"
          ]
        }
      ],
      "source": [
        "# Vectorize our data and labels. We want everything in one-hot.\n",
        "X = np.zeros((num_sentences, sentence_length, num_chars), dtype=bool)\n",
        "y = np.zeros((num_sentences, num_chars), dtype=bool)\n",
        "for i, sentence in enumerate(X_data):\n",
        "    for t, encoded_char in enumerate(sentence):\n",
        "        X[i, t, encoded_char] = 1\n",
        "    y[i, y_data[i]] = 1\n",
        "\n",
        "# Double check our vectorized data before we sink hours into fitting a model\n",
        "print(\"Sanity check y. Dimension: {0} # Sentences: {1} Characters in corpus: {2}\"\n",
        "      .format(y.shape, num_sentences, len(chars)))\n",
        "print(\"Sanity check X. Dimension: {0} Sentence length: {1}\"\n",
        "      .format(X.shape, sentence_length))"
      ]
    },
    {
      "cell_type": "code",
      "execution_count": 10,
      "metadata": {
        "colab": {
          "base_uri": "https://localhost:8080/"
        },
        "id": "xPPINX5FBu9c",
        "outputId": "618471be-991f-47c2-d9ec-d8699aea2af9"
      },
      "outputs": [
        {
          "output_type": "stream",
          "name": "stdout",
          "text": [
            "Model: \"sequential\"\n",
            "_________________________________________________________________\n",
            " Layer (type)                Output Shape              Param #   \n",
            "=================================================================\n",
            " simple_rnn (SimpleRNN)      (None, 64)                13760     \n",
            "                                                                 \n",
            " dense (Dense)               (None, 150)               9750      \n",
            "                                                                 \n",
            " activation (Activation)     (None, 150)               0         \n",
            "                                                                 \n",
            "=================================================================\n",
            "Total params: 23510 (91.84 KB)\n",
            "Trainable params: 23510 (91.84 KB)\n",
            "Non-trainable params: 0 (0.00 Byte)\n",
            "_________________________________________________________________\n"
          ]
        }
      ],
      "source": [
        "# Define our model\n",
        "model = keras.models.Sequential()\n",
        "model.add(keras.layers.SimpleRNN(64, input_shape=(sentence_length, num_chars),\n",
        "                    return_sequences=False))\n",
        "model.add(keras.layers.Dense(num_chars))\n",
        "model.add(keras.layers.Activation('softmax'))\n",
        "model.compile(loss='categorical_crossentropy', optimizer='adam',\n",
        "              metrics=['accuracy'])\n",
        "model.summary()"
      ]
    },
    {
      "cell_type": "code",
      "execution_count": 12,
      "metadata": {
        "colab": {
          "base_uri": "https://localhost:8080/",
          "height": 624
        },
        "id": "Qc7hJP0KBu9d",
        "outputId": "7d7f1a42-a24b-47bf-977f-cf9eb95f55bd"
      },
      "outputs": [
        {
          "output_type": "stream",
          "name": "stdout",
          "text": [
            "Epoch 1/5\n",
            "6688/6688 [==============================] - 58s 9ms/step - loss: 2.2963 - accuracy: 0.3495\n",
            "Epoch 2/5\n",
            "6688/6688 [==============================] - 59s 9ms/step - loss: 2.2312 - accuracy: 0.3678\n",
            "Epoch 3/5\n",
            "6688/6688 [==============================] - 57s 8ms/step - loss: 2.1945 - accuracy: 0.3781\n",
            "Epoch 4/5\n",
            "6688/6688 [==============================] - 57s 8ms/step - loss: 2.1709 - accuracy: 0.3845\n",
            "Epoch 5/5\n",
            "6688/6688 [==============================] - 56s 8ms/step - loss: 2.1539 - accuracy: 0.3888\n"
          ]
        },
        {
          "output_type": "display_data",
          "data": {
            "text/plain": [
              "<Figure size 640x480 with 1 Axes>"
            ],
            "image/png": "[encoded data removed]"
          },
          "metadata": {}
        }
      ],
      "source": [
        "#training time\n",
        "log = model.fit(X, y, epochs=5, batch_size=128)\n",
        "plt.plot(log.history['loss'], label='Training')\n",
        "plt.legend()\n",
        "plt.grid()"
      ]
    },
    {
      "cell_type": "code",
      "execution_count": 18,
      "metadata": {
        "id": "FrAjeisZBu9d",
        "colab": {
          "base_uri": "https://localhost:8080/"
        },
        "outputId": "0da1d642-e2f8-4cbe-ec02-37d4c272f5f7"
      },
      "outputs": [
        {
          "output_type": "stream",
          "name": "stdout",
          "text": [
            "seed = Smart syst\n",
            "ems\n",
            "Eg Intermating Condu\n",
            "Enterserbee\n",
            "Desstmow's\n",
            "S.com\n",
            "K Anergity\n",
            "Clickitl\n",
            "Fitnee\n",
            "DosZee\n",
            "Maghtort Gl\n",
            "Dile IG\n",
            "Pegrehtes\n",
            "BusAos Rodgeal Camer\n",
            "Eve Goop\n",
            "Fig Media\n",
            "ProHud Comporbore\n",
            "Thk Paldon System\n",
            "QiObHip\n",
            "Smirger\n",
            "PMC\n",
            "Accapiua\n",
            "Censestimp\n",
            "Enginic Fatix Group\n",
            "Latgen S. Imv.io\n",
            "Frittial\n",
            "Fusorragen\n",
            "MariZem\n",
            "QVF Medical Resbation\n",
            "PGURR Ensertioss\n",
            "InVide\n",
            "Upili\n",
            "Destes Internaty Spelinal\n",
            "Sistata Dasing\n",
            "Toletect\n",
            "Kircor\n",
            "Tractulo\n",
            "7DAI-ta\n",
            "BapeStulieal Apparg\n",
            "SeNdy Plir\n",
            "Sumerigh Crenty\n",
            "Linkzo Dedics\n",
            "Zenel Insigenc\n"
          ]
        }
      ],
      "source": [
        "def make_seed(seed_phrase=\"\"):\n",
        "        if seed_phrase:  # make sure the seed has the right length\n",
        "            phrase_length = len(seed_phrase)\n",
        "            pattern = \"\"\n",
        "            for i in range (0, sentence_length):\n",
        "                pattern += seed_phrase[i % phrase_length]\n",
        "        else:            # sample randomly the seed from corpus\n",
        "            seed = random.randint(0, corpus_length - sentence_length)\n",
        "            pattern = corpus[seed:seed + sentence_length]\n",
        "        return pattern\n",
        "\n",
        "seed_pattern = make_seed(\"Smart syst\")\n",
        "print(\"seed = \" + seed_pattern)\n",
        "\n",
        "X = np.zeros((1, sentence_length, num_chars), dtype=float)\n",
        "for i, character in enumerate(seed_pattern):\n",
        "    X[0, i, encoding[character]] = 1\n",
        "\n",
        "generated_text = \"\"\n",
        "for i in range(500):\n",
        "    output_prob = model.predict(X, verbose=0)[0]\n",
        "    # in previous line predict() gives a tensor of shape (1, 65)\n",
        "    # with 1 being the size of the batch, for that we use [0] to get a vector\n",
        "    prediction = np.random.choice(num_chars, p = output_prob )\n",
        "    generated_text += decoding[prediction]\n",
        "    activations = np.zeros((1, 1, num_chars), dtype=bool)\n",
        "    activations[0, 0, prediction] = 1\n",
        "    #now remove first char and glue the predicted one\n",
        "    X = np.concatenate((X[:, 1:, :], activations), axis=1)\n",
        "print(generated_text)"
      ]
    }
  ],
  "metadata": {
    "kernelspec": {
      "display_name": "Python 3",
      "name": "python3"
    },
    "language_info": {
      "codemirror_mode": {
        "name": "ipython",
        "version": 3
      },
      "file_extension": ".py",
      "mimetype": "text/x-python",
      "name": "python",
      "nbconvert_exporter": "python",
      "pygments_lexer": "ipython3",
      "version": "3.8.5"
    },
    "colab": {
      "provenance": [],
      "gpuType": "T4"
    },
    "accelerator": "GPU"
  },
  "nbformat": 4,
  "nbformat_minor": 0
}