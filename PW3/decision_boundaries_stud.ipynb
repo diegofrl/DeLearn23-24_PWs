{
 "cells": [
  {
   "cell_type": "markdown",
   "id": "expressed-suffering",
   "metadata": {},
   "source": [
    "## Decision Boundaries\n",
    "\n",
    "This script is to illustrate the representational capacity of a MLP with one hidden layer concerning possible decision boundaries that can be produced using - for simplicity - the Heaviside activation function. It is an extension of the exercise `3.1.decision_boudaries_stud.ipynb` at the end of chapter 4.3.1 in the lecture notes to a multiclass problem."
   ]
  },
  {
   "cell_type": "code",
   "execution_count": null,
   "id": "educational-syndrome",
   "metadata": {},
   "outputs": [],
   "source": [
    "import numpy as np\n",
    "import matplotlib.pyplot as plt\n"
   ]
  },
  {
   "cell_type": "markdown",
   "id": "616f1da0-e0e3-4b28-a1b3-4891cb4ece4a",
   "metadata": {},
   "source": [
    "## Helper functions"
   ]
  },
  {
   "cell_type": "code",
   "execution_count": null,
   "id": "allied-flavor",
   "metadata": {},
   "outputs": [],
   "source": [
    "def create_data(centres, sigmas, num_points, label_list, seed, centre_sigma = 2):\n",
    "    \"\"\"\n",
    "    Arguments:\n",
    "    centres -- list of points in 2D used as centres\n",
    "    sigmas -- list of std 2D for selection of points around centres\n",
    "    num_points -- number of points to select for each centre\n",
    "    label_list -- list of labels (some sets may belong to same label)\n",
    "    seed -- set the random seed to have identical results\n",
    "    centre_sigma -- some randomness added to centres\n",
    "\n",
    "    Returns:\n",
    "    point_list, labels\n",
    "    \"\"\"\n",
    "\n",
    "    np.random.seed(seed)  # set the seet\n",
    "\n",
    "    #we add some noise to the set centre \n",
    "    centres = centres + centre_sigma*np.random.normal(0, 1, centres.shape)\n",
    "\n",
    "    point_list = np.zeros((centres.shape[0] * num_points, centres.shape[1]))\n",
    "    labels = np.zeros((centres.shape[0] * num_points),dtype=int)\n",
    "\n",
    "    for i0 in np.arange(centres.shape[0]):\n",
    "        point_list[i0 * num_points:(i0+1)*num_points,:] = centres[i0,:].reshape(1, centres.shape[1]) + \\\n",
    "                    sigmas[i0,:].reshape(1, centres.shape[1])*2*(np.random.normal(0,1,(num_points, centres.shape[1]))-0.5)\n",
    "\n",
    "        labels[i0 * num_points:(i0+1)*num_points] = label_list[i0]\n",
    "\n",
    "    return point_list, labels\n",
    "\n",
    "\n",
    "def plot_data(point_list, labels, n_vec=[], b_vec=[], distance=2):\n",
    "    \"\"\"\n",
    "    Arguments:\n",
    "    point_list -- list of points\n",
    "    labels -- corresponding labels\n",
    "    n_vec -- list of normal vector of the decision boundaries to plot\n",
    "    b_vec -- list of biases of the decision boundaries to plot\n",
    "    \"\"\"\n",
    "    col = ['r+','g+','b+','c+','m+','y+']\n",
    "    col_line = ['r-','g-','b-','c-','m-','y-']\n",
    "    \n",
    "    labels_unique = np.unique(labels)\n",
    "    \n",
    "    for i0 in np.arange(labels_unique.size):\n",
    "        plt.plot(point_list[labels==labels_unique[i0],0],point_list[labels==labels_unique[i0],1],col[labels_unique[i0]])\n",
    "              \n",
    "    if len(n_vec) > 0:\n",
    "        for i0 in range(n_vec.shape[1]):\n",
    "            x0 = -n_vec[:,i0]*b_vec[0,i0]\n",
    "            dt = np.array([-n_vec[1,i0],n_vec[0,i0]])\n",
    "            xp = np.zeros((2,2))\n",
    "            xp[0] = x0-0.5*distance*dt\n",
    "            xp[1] = x0+0.5*distance*dt\n",
    "    \n",
    "            plt.plot(xp[:,0],xp[:,1], col_line[i0])\n",
    "\n",
    "    plt.show()"
   ]
  },
  {
   "cell_type": "markdown",
   "id": "b20daf4f-0477-49c3-afd3-fe72fb0eaf23",
   "metadata": {},
   "source": [
    "### Create a set of points corresponding to different categories in 2D plane\n"
   ]
  },
  {
   "cell_type": "code",
   "execution_count": null,
   "id": "stock-simpson",
   "metadata": {},
   "outputs": [],
   "source": [
    "### START YOUR CODE ### \n",
    "# choose any suitable (allowed) inter value \n",
    "\n",
    "#allows to reproduce the results\n",
    "seed=10\n",
    "\n",
    "### END YOUR CODE ### \n",
    "\n",
    "#you can choose only part of the defined centre pointes\n",
    "num_centres = 4\n",
    "\n",
    "#number of points (for each centre)\n",
    "num_points = 300\n",
    "\n",
    "#choose the centre points of the sets (some randomness is added in create_data)\n",
    "centres = np.array([[0,0],[0,10],[10,0],[0,-10], [-10,0]]) \n",
    "\n",
    "#choose the labels (in a row [0,1, ..]) (can be identical to \"fuse\" sets) \n",
    "labels = np.array([0,1,2,3,4]) \n",
    "\n",
    "#choose the sigmas (x,y) to randomise the sets\n",
    "sigmas = .3*np.array([[3,4],[5,3],[3,2],[1,3],[3,6]])\n",
    "\n",
    "#create data and plot it\n",
    "x,y = create_data(centres[:num_centres,:], sigmas[:num_centres,:], num_points, labels, seed)\n",
    "\n",
    "plot_data(x, y)"
   ]
  },
  {
   "cell_type": "markdown",
   "id": "organized-charger",
   "metadata": {},
   "source": [
    "### Class Multi-Layer Perceptron\n",
    "\n",
    "Constructor receives $weights$ and biases. We create one hidden and the output layer. Therefore weights and biases are lists of length two. The weight list has two entries: a `(2,k)`-shaped vector - `k` being the number of hidden neurons - and a `(k,n)`-shaped vector, `n` being the number of outputs. The bias list has two entries: a `(1,k)`-shaped vector and a `(1,n)`-shaped vector. Using the $propagate()$ method a prediction on a set of points $x$ - a `(n,2)`-vector - can be done. The method $calc\\_error()$ gives back the error of the prediction $y\\_pred$ compared to the ground truth $y$."
   ]
  },
  {
   "cell_type": "code",
   "execution_count": null,
   "id": "removed-commons",
   "metadata": {},
   "outputs": [],
   "source": [
    "class MultiLayerPerceptron:\n",
    "    \"\"\"\n",
    "    simple MLP class (without optimisation)\n",
    "    \"\"\"\n",
    "     \n",
    "    def __init__(self, weights, bias):\n",
    "        \"\"\"\n",
    "        constructor\n",
    "\n",
    "        Arguments:\n",
    "        weights -- a list of weight vectors of shape (2,k) and (k,1)\n",
    "        bias -- a list of bias vectors of shape (1,k) and (1)\n",
    "        \"\"\"\n",
    "        \n",
    "        self.w1 = weights[0]\n",
    "        self.b1 = bias[0]     \n",
    "\n",
    "        self.w_out = weights[1]\n",
    "        self.b_out = bias[1]     \n",
    "    \n",
    "    def propagate(self, x):\n",
    "        \"\"\"\n",
    "        predicted outcome for x\n",
    "        \"\"\"\n",
    "        #hidden layer\n",
    "        z1 = x @ self.w1 + self.b1\n",
    "        a1 = 1*(0 <= z1)\n",
    "        #output layer\n",
    "        z_out = a1 @ self.w_out + self.b_out\n",
    "        y_pred = 1*(0 <= z_out)\n",
    "                    \n",
    "        return y_pred\n",
    "\n",
    "    \n",
    "    def calc_error(self, y_pred, y):\n",
    "        \"\"\"\n",
    "        get error information\n",
    "        \"\"\"\n",
    "        m = y.shape[0]\n",
    "         \n",
    "        error = 1-np.sum(y_pred == y.reshape(y_pred.shape)) / m \n",
    "\n",
    "        return error"
   ]
  },
  {
   "cell_type": "markdown",
   "id": "adapted-reputation",
   "metadata": {},
   "source": [
    "### Sample execution of class Multi-Layer Perceptron"
   ]
  },
  {
   "cell_type": "code",
   "execution_count": null,
   "id": "00f7a842-692a-49ef-b671-764f7bf5e7c4",
   "metadata": {},
   "outputs": [],
   "source": [
    "### START YOUR CODE ### \n",
    "\n",
    "w1 = np.array([[1,0]]).T\n",
    "b1 = np.array([[-5]])\n",
    "\n",
    "w_out = np.array([[0],[0],[1],[0]]).T\n",
    "b_out = np.array([-0.5])\n",
    "\n",
    "### END YOUR CODE ###\n",
    "\n",
    "weights = [w1, w_out]\n",
    "bias = [b1, b_out]\n",
    "\n",
    "MLP = MultiLayerPerceptron(weights, bias)\n",
    "\n",
    "y_pred = MLP.propagate(x)\n",
    "y_pred_argmax = np.argmax(y_pred,axis=1)\n",
    "print(MLP.calc_error(y_pred_argmax,y))"
   ]
  },
  {
   "cell_type": "markdown",
   "id": "ee4cd6cd-c1d5-4586-a626-300c723627f5",
   "metadata": {},
   "source": [
    "### Plot the results"
   ]
  },
  {
   "cell_type": "code",
   "execution_count": null,
   "id": "continent-mustang",
   "metadata": {},
   "outputs": [],
   "source": [
    "norm_W = np.sqrt(np.sum(MLP.w1**2,0))\n",
    "n_vec = MLP.w1/norm_W\n",
    "b_vec = MLP.b1/norm_W\n",
    "\n",
    "plot_data(x, y, n_vec, b_vec,20)\n",
    "plot_data(x, y_pred_argmax, n_vec, b_vec,20)\n"
   ]
  },
  {
   "cell_type": "code",
   "execution_count": null,
   "id": "equal-stake",
   "metadata": {},
   "outputs": [],
   "source": [
    "step = 0.7\n",
    "grid = np.mgrid[-15:15:step,-20:20:step]\n",
    "\n",
    "grid_points = grid.reshape(2,int(grid.size/2)).T\n",
    "\n",
    "y_pred = MLP.propagate(grid_points)\n",
    "y_pred_argmax = np.argmax(y_pred,axis=1)\n",
    "plot_data(grid_points, y_pred_argmax, n_vec, b_vec,0)"
   ]
  },
  {
   "cell_type": "code",
   "execution_count": null,
   "id": "638a46c4-f5c4-457f-b2b9-f5c015dfd405",
   "metadata": {},
   "outputs": [],
   "source": []
  }
 ],
 "metadata": {
  "kernelspec": {
   "display_name": "Python 3 (ipykernel)",
   "language": "python",
   "name": "python3"
  },
  "language_info": {
   "codemirror_mode": {
    "name": "ipython",
    "version": 3
   },
   "file_extension": ".py",
   "mimetype": "text/x-python",
   "name": "python",
   "nbconvert_exporter": "python",
   "pygments_lexer": "ipython3",
   "version": "3.8.18"
  }
 },
 "nbformat": 4,
 "nbformat_minor": 5
}
